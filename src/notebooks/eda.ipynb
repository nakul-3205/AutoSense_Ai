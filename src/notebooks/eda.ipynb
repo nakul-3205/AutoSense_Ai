{
 "cells": [
  {
   "cell_type": "code",
   "execution_count": 2,
   "id": "5143f1b2",
   "metadata": {},
   "outputs": [],
   "source": [
    "import pandas as pd \n",
    "import numpy as np\n",
    "import matplotlib as plt\n",
    "%matplotlib inline"
   ]
  },
  {
   "cell_type": "code",
   "execution_count": 3,
   "id": "7e471648",
   "metadata": {},
   "outputs": [],
   "source": [
    "df=pd.read_csv('../../data/raw/data.csv')"
   ]
  },
  {
   "cell_type": "code",
   "execution_count": 4,
   "id": "77aa96f9",
   "metadata": {},
   "outputs": [
    {
     "data": {
      "text/html": [
       "<div>\n",
       "<style scoped>\n",
       "    .dataframe tbody tr th:only-of-type {\n",
       "        vertical-align: middle;\n",
       "    }\n",
       "\n",
       "    .dataframe tbody tr th {\n",
       "        vertical-align: top;\n",
       "    }\n",
       "\n",
       "    .dataframe thead th {\n",
       "        text-align: right;\n",
       "    }\n",
       "</style>\n",
       "<table border=\"1\" class=\"dataframe\">\n",
       "  <thead>\n",
       "    <tr style=\"text-align: right;\">\n",
       "      <th></th>\n",
       "      <th>make</th>\n",
       "      <th>model</th>\n",
       "      <th>year</th>\n",
       "      <th>mileage</th>\n",
       "      <th>engine_hp</th>\n",
       "      <th>transmission</th>\n",
       "      <th>fuel_type</th>\n",
       "      <th>drivetrain</th>\n",
       "      <th>body_type</th>\n",
       "      <th>exterior_color</th>\n",
       "      <th>interior_color</th>\n",
       "      <th>owner_count</th>\n",
       "      <th>accident_history</th>\n",
       "      <th>seller_type</th>\n",
       "      <th>condition</th>\n",
       "      <th>trim</th>\n",
       "      <th>vehicle_age</th>\n",
       "      <th>mileage_per_year</th>\n",
       "      <th>brand_popularity</th>\n",
       "      <th>price</th>\n",
       "    </tr>\n",
       "  </thead>\n",
       "  <tbody>\n",
       "    <tr>\n",
       "      <th>0</th>\n",
       "      <td>Volkswagen</td>\n",
       "      <td>Jetta</td>\n",
       "      <td>2016</td>\n",
       "      <td>183903</td>\n",
       "      <td>173</td>\n",
       "      <td>Manual</td>\n",
       "      <td>Electric</td>\n",
       "      <td>RWD</td>\n",
       "      <td>Sedan</td>\n",
       "      <td>Blue</td>\n",
       "      <td>Brown</td>\n",
       "      <td>5</td>\n",
       "      <td>NaN</td>\n",
       "      <td>Dealer</td>\n",
       "      <td>Excellent</td>\n",
       "      <td>EX</td>\n",
       "      <td>9</td>\n",
       "      <td>20433.666667</td>\n",
       "      <td>0.040054</td>\n",
       "      <td>7208.52</td>\n",
       "    </tr>\n",
       "    <tr>\n",
       "      <th>1</th>\n",
       "      <td>Lexus</td>\n",
       "      <td>RX</td>\n",
       "      <td>2010</td>\n",
       "      <td>236643</td>\n",
       "      <td>352</td>\n",
       "      <td>Manual</td>\n",
       "      <td>Gasoline</td>\n",
       "      <td>FWD</td>\n",
       "      <td>Sedan</td>\n",
       "      <td>Silver</td>\n",
       "      <td>Beige</td>\n",
       "      <td>5</td>\n",
       "      <td>Minor</td>\n",
       "      <td>Dealer</td>\n",
       "      <td>Good</td>\n",
       "      <td>LX</td>\n",
       "      <td>15</td>\n",
       "      <td>15776.200000</td>\n",
       "      <td>0.039921</td>\n",
       "      <td>6911.81</td>\n",
       "    </tr>\n",
       "    <tr>\n",
       "      <th>2</th>\n",
       "      <td>Subaru</td>\n",
       "      <td>Crosstrek</td>\n",
       "      <td>2016</td>\n",
       "      <td>103199</td>\n",
       "      <td>188</td>\n",
       "      <td>Automatic</td>\n",
       "      <td>Diesel</td>\n",
       "      <td>AWD</td>\n",
       "      <td>Sedan</td>\n",
       "      <td>Silver</td>\n",
       "      <td>Beige</td>\n",
       "      <td>5</td>\n",
       "      <td>NaN</td>\n",
       "      <td>Dealer</td>\n",
       "      <td>Excellent</td>\n",
       "      <td>Touring</td>\n",
       "      <td>9</td>\n",
       "      <td>11466.555556</td>\n",
       "      <td>0.040230</td>\n",
       "      <td>11915.63</td>\n",
       "    </tr>\n",
       "    <tr>\n",
       "      <th>3</th>\n",
       "      <td>Cadillac</td>\n",
       "      <td>Lyriq</td>\n",
       "      <td>2016</td>\n",
       "      <td>118889</td>\n",
       "      <td>338</td>\n",
       "      <td>Manual</td>\n",
       "      <td>Gasoline</td>\n",
       "      <td>AWD</td>\n",
       "      <td>SUV</td>\n",
       "      <td>Black</td>\n",
       "      <td>Gray</td>\n",
       "      <td>3</td>\n",
       "      <td>NaN</td>\n",
       "      <td>Private</td>\n",
       "      <td>Good</td>\n",
       "      <td>Base</td>\n",
       "      <td>9</td>\n",
       "      <td>13209.888889</td>\n",
       "      <td>0.039847</td>\n",
       "      <td>25984.79</td>\n",
       "    </tr>\n",
       "    <tr>\n",
       "      <th>4</th>\n",
       "      <td>Toyota</td>\n",
       "      <td>Highlander</td>\n",
       "      <td>2018</td>\n",
       "      <td>204170</td>\n",
       "      <td>196</td>\n",
       "      <td>Manual</td>\n",
       "      <td>Diesel</td>\n",
       "      <td>FWD</td>\n",
       "      <td>Sedan</td>\n",
       "      <td>Red</td>\n",
       "      <td>Brown</td>\n",
       "      <td>5</td>\n",
       "      <td>Minor</td>\n",
       "      <td>Dealer</td>\n",
       "      <td>Excellent</td>\n",
       "      <td>Sport</td>\n",
       "      <td>7</td>\n",
       "      <td>29167.142857</td>\n",
       "      <td>0.039627</td>\n",
       "      <td>8151.30</td>\n",
       "    </tr>\n",
       "  </tbody>\n",
       "</table>\n",
       "</div>"
      ],
      "text/plain": [
       "         make       model  year  mileage  engine_hp transmission fuel_type  \\\n",
       "0  Volkswagen       Jetta  2016   183903        173       Manual  Electric   \n",
       "1       Lexus          RX  2010   236643        352       Manual  Gasoline   \n",
       "2      Subaru   Crosstrek  2016   103199        188    Automatic    Diesel   \n",
       "3    Cadillac       Lyriq  2016   118889        338       Manual  Gasoline   \n",
       "4      Toyota  Highlander  2018   204170        196       Manual    Diesel   \n",
       "\n",
       "  drivetrain body_type exterior_color interior_color  owner_count  \\\n",
       "0        RWD     Sedan           Blue          Brown            5   \n",
       "1        FWD     Sedan         Silver          Beige            5   \n",
       "2        AWD     Sedan         Silver          Beige            5   \n",
       "3        AWD       SUV          Black           Gray            3   \n",
       "4        FWD     Sedan            Red          Brown            5   \n",
       "\n",
       "  accident_history seller_type  condition     trim  vehicle_age  \\\n",
       "0              NaN      Dealer  Excellent       EX            9   \n",
       "1            Minor      Dealer       Good       LX           15   \n",
       "2              NaN      Dealer  Excellent  Touring            9   \n",
       "3              NaN     Private       Good     Base            9   \n",
       "4            Minor      Dealer  Excellent    Sport            7   \n",
       "\n",
       "   mileage_per_year  brand_popularity     price  \n",
       "0      20433.666667          0.040054   7208.52  \n",
       "1      15776.200000          0.039921   6911.81  \n",
       "2      11466.555556          0.040230  11915.63  \n",
       "3      13209.888889          0.039847  25984.79  \n",
       "4      29167.142857          0.039627   8151.30  "
      ]
     },
     "execution_count": 4,
     "metadata": {},
     "output_type": "execute_result"
    }
   ],
   "source": [
    "df.head()"
   ]
  },
  {
   "cell_type": "code",
   "execution_count": 5,
   "id": "f2567c1d",
   "metadata": {},
   "outputs": [
    {
     "data": {
      "text/plain": [
       "make                     0\n",
       "model                    0\n",
       "year                     0\n",
       "mileage                  0\n",
       "engine_hp                0\n",
       "transmission             0\n",
       "fuel_type                0\n",
       "drivetrain               0\n",
       "body_type                0\n",
       "exterior_color           0\n",
       "interior_color           0\n",
       "owner_count              0\n",
       "accident_history    750133\n",
       "seller_type              0\n",
       "condition                0\n",
       "trim                     0\n",
       "vehicle_age              0\n",
       "mileage_per_year         0\n",
       "brand_popularity         0\n",
       "price                    0\n",
       "dtype: int64"
      ]
     },
     "execution_count": 5,
     "metadata": {},
     "output_type": "execute_result"
    }
   ],
   "source": [
    "df.isnull().sum()"
   ]
  },
  {
   "cell_type": "code",
   "execution_count": 6,
   "id": "803b4f74",
   "metadata": {},
   "outputs": [
    {
     "data": {
      "text/html": [
       "<div>\n",
       "<style scoped>\n",
       "    .dataframe tbody tr th:only-of-type {\n",
       "        vertical-align: middle;\n",
       "    }\n",
       "\n",
       "    .dataframe tbody tr th {\n",
       "        vertical-align: top;\n",
       "    }\n",
       "\n",
       "    .dataframe thead th {\n",
       "        text-align: right;\n",
       "    }\n",
       "</style>\n",
       "<table border=\"1\" class=\"dataframe\">\n",
       "  <thead>\n",
       "    <tr style=\"text-align: right;\">\n",
       "      <th></th>\n",
       "      <th>year</th>\n",
       "      <th>mileage</th>\n",
       "      <th>engine_hp</th>\n",
       "      <th>owner_count</th>\n",
       "      <th>vehicle_age</th>\n",
       "      <th>mileage_per_year</th>\n",
       "      <th>brand_popularity</th>\n",
       "      <th>price</th>\n",
       "    </tr>\n",
       "  </thead>\n",
       "  <tbody>\n",
       "    <tr>\n",
       "      <th>count</th>\n",
       "      <td>1000000.000000</td>\n",
       "      <td>1000000.000000</td>\n",
       "      <td>1000000.000000</td>\n",
       "      <td>1000000.000000</td>\n",
       "      <td>1000000.000000</td>\n",
       "      <td>1000000.000000</td>\n",
       "      <td>1000000.000000</td>\n",
       "      <td>1000000.000000</td>\n",
       "    </tr>\n",
       "    <tr>\n",
       "      <th>mean</th>\n",
       "      <td>2017.453816</td>\n",
       "      <td>112660.126464</td>\n",
       "      <td>235.664301</td>\n",
       "      <td>3.477846</td>\n",
       "      <td>7.585987</td>\n",
       "      <td>14540.674200</td>\n",
       "      <td>0.040001</td>\n",
       "      <td>20329.302593</td>\n",
       "    </tr>\n",
       "    <tr>\n",
       "      <th>std</th>\n",
       "      <td>3.902285</td>\n",
       "      <td>72088.236925</td>\n",
       "      <td>93.614773</td>\n",
       "      <td>1.544856</td>\n",
       "      <td>3.829534</td>\n",
       "      <td>6108.901522</td>\n",
       "      <td>0.000234</td>\n",
       "      <td>13644.467189</td>\n",
       "    </tr>\n",
       "    <tr>\n",
       "      <th>min</th>\n",
       "      <td>2000.000000</td>\n",
       "      <td>500.000000</td>\n",
       "      <td>90.000000</td>\n",
       "      <td>1.000000</td>\n",
       "      <td>1.000000</td>\n",
       "      <td>33.333333</td>\n",
       "      <td>0.039318</td>\n",
       "      <td>1500.000000</td>\n",
       "    </tr>\n",
       "    <tr>\n",
       "      <th>25%</th>\n",
       "      <td>2015.000000</td>\n",
       "      <td>57654.000000</td>\n",
       "      <td>162.000000</td>\n",
       "      <td>2.000000</td>\n",
       "      <td>5.000000</td>\n",
       "      <td>10487.633523</td>\n",
       "      <td>0.039842</td>\n",
       "      <td>10324.527500</td>\n",
       "    </tr>\n",
       "    <tr>\n",
       "      <th>50%</th>\n",
       "      <td>2018.000000</td>\n",
       "      <td>103331.000000</td>\n",
       "      <td>215.000000</td>\n",
       "      <td>4.000000</td>\n",
       "      <td>7.000000</td>\n",
       "      <td>14688.118056</td>\n",
       "      <td>0.040022</td>\n",
       "      <td>17864.740000</td>\n",
       "    </tr>\n",
       "    <tr>\n",
       "      <th>75%</th>\n",
       "      <td>2020.000000</td>\n",
       "      <td>157865.000000</td>\n",
       "      <td>300.000000</td>\n",
       "      <td>5.000000</td>\n",
       "      <td>10.000000</td>\n",
       "      <td>18685.942308</td>\n",
       "      <td>0.040148</td>\n",
       "      <td>27601.402500</td>\n",
       "    </tr>\n",
       "    <tr>\n",
       "      <th>max</th>\n",
       "      <td>2025.000000</td>\n",
       "      <td>300000.000000</td>\n",
       "      <td>581.000000</td>\n",
       "      <td>5.000000</td>\n",
       "      <td>25.000000</td>\n",
       "      <td>55391.000000</td>\n",
       "      <td>0.040484</td>\n",
       "      <td>93422.090000</td>\n",
       "    </tr>\n",
       "  </tbody>\n",
       "</table>\n",
       "</div>"
      ],
      "text/plain": [
       "                 year         mileage       engine_hp     owner_count  \\\n",
       "count  1000000.000000  1000000.000000  1000000.000000  1000000.000000   \n",
       "mean      2017.453816   112660.126464      235.664301        3.477846   \n",
       "std          3.902285    72088.236925       93.614773        1.544856   \n",
       "min       2000.000000      500.000000       90.000000        1.000000   \n",
       "25%       2015.000000    57654.000000      162.000000        2.000000   \n",
       "50%       2018.000000   103331.000000      215.000000        4.000000   \n",
       "75%       2020.000000   157865.000000      300.000000        5.000000   \n",
       "max       2025.000000   300000.000000      581.000000        5.000000   \n",
       "\n",
       "          vehicle_age  mileage_per_year  brand_popularity           price  \n",
       "count  1000000.000000    1000000.000000    1000000.000000  1000000.000000  \n",
       "mean         7.585987      14540.674200          0.040001    20329.302593  \n",
       "std          3.829534       6108.901522          0.000234    13644.467189  \n",
       "min          1.000000         33.333333          0.039318     1500.000000  \n",
       "25%          5.000000      10487.633523          0.039842    10324.527500  \n",
       "50%          7.000000      14688.118056          0.040022    17864.740000  \n",
       "75%         10.000000      18685.942308          0.040148    27601.402500  \n",
       "max         25.000000      55391.000000          0.040484    93422.090000  "
      ]
     },
     "execution_count": 6,
     "metadata": {},
     "output_type": "execute_result"
    }
   ],
   "source": [
    "df.describe()"
   ]
  },
  {
   "cell_type": "code",
   "execution_count": 7,
   "id": "b4d3398b",
   "metadata": {},
   "outputs": [
    {
     "name": "stdout",
     "output_type": "stream",
     "text": [
      "<class 'pandas.core.frame.DataFrame'>\n",
      "RangeIndex: 1000000 entries, 0 to 999999\n",
      "Data columns (total 20 columns):\n",
      " #   Column            Non-Null Count    Dtype  \n",
      "---  ------            --------------    -----  \n",
      " 0   make              1000000 non-null  object \n",
      " 1   model             1000000 non-null  object \n",
      " 2   year              1000000 non-null  int64  \n",
      " 3   mileage           1000000 non-null  int64  \n",
      " 4   engine_hp         1000000 non-null  int64  \n",
      " 5   transmission      1000000 non-null  object \n",
      " 6   fuel_type         1000000 non-null  object \n",
      " 7   drivetrain        1000000 non-null  object \n",
      " 8   body_type         1000000 non-null  object \n",
      " 9   exterior_color    1000000 non-null  object \n",
      " 10  interior_color    1000000 non-null  object \n",
      " 11  owner_count       1000000 non-null  int64  \n",
      " 12  accident_history  249867 non-null   object \n",
      " 13  seller_type       1000000 non-null  object \n",
      " 14  condition         1000000 non-null  object \n",
      " 15  trim              1000000 non-null  object \n",
      " 16  vehicle_age       1000000 non-null  int64  \n",
      " 17  mileage_per_year  1000000 non-null  float64\n",
      " 18  brand_popularity  1000000 non-null  float64\n",
      " 19  price             1000000 non-null  float64\n",
      "dtypes: float64(3), int64(5), object(12)\n",
      "memory usage: 152.6+ MB\n"
     ]
    }
   ],
   "source": [
    "df.info()"
   ]
  },
  {
   "cell_type": "code",
   "execution_count": 8,
   "id": "ecd7ce48",
   "metadata": {},
   "outputs": [
    {
     "data": {
      "text/plain": [
       "model\n",
       "300         20202\n",
       "Pacifica    19857\n",
       "2500        13539\n",
       "3500        13464\n",
       "Charger     13457\n",
       "            ...  \n",
       "RAV4         7880\n",
       "Escape       7879\n",
       "3 Series     7871\n",
       "Corolla      7837\n",
       "X5           7823\n",
       "Name: count, Length: 105, dtype: int64"
      ]
     },
     "execution_count": 8,
     "metadata": {},
     "output_type": "execute_result"
    }
   ],
   "source": [
    "df['model'].value_counts()"
   ]
  },
  {
   "cell_type": "code",
   "execution_count": 9,
   "id": "44ec4ffb",
   "metadata": {},
   "outputs": [
    {
     "data": {
      "text/plain": [
       "transmission\n",
       "Automatic    500263\n",
       "Manual       499737\n",
       "Name: count, dtype: int64"
      ]
     },
     "execution_count": 9,
     "metadata": {},
     "output_type": "execute_result"
    }
   ],
   "source": [
    "df['transmission'].value_counts() #ohe\n"
   ]
  },
  {
   "cell_type": "code",
   "execution_count": 10,
   "id": "7daae5fc",
   "metadata": {},
   "outputs": [
    {
     "data": {
      "text/plain": [
       "array(['Jetta', 'RX', 'Crosstrek', 'Lyriq', 'Highlander', 'Defender',\n",
       "       'Mazda3', 'Atlas', '2500', '300', 'Yukon', 'XT5', 'Range Rover',\n",
       "       'S60', 'Camry', 'Q5', 'Silverado', 'Model 3', '3500', 'Sonata',\n",
       "       'Camaro', 'Explorer', '911', 'MDX', 'Sentra', 'Mustang',\n",
       "       'Discovery', 'R8', 'Forte', 'Equinox', 'Model Y', '1500',\n",
       "       'Grand Cherokee', 'Mazda6', 'M3', 'Malibu', 'Pacifica', 'Panamera',\n",
       "       'Pathfinder', 'V60', 'A6', 'Sorento', 'Cherokee', 'IS', 'Macan',\n",
       "       'Tiguan', 'Tucson', '3 Series', 'Durango', 'Titan', 'TLX',\n",
       "       'S-Class', 'E-Class', 'RDX', 'Corolla', 'RAV4', 'F-150', 'X5',\n",
       "       'Outback', 'Cayenne', 'Rogue', 'Accord', 'Acadia', 'ES',\n",
       "       'Sportage', 'Tacoma', 'CT5', 'Challenger', 'Sierra', 'Wrangler',\n",
       "       'Altima', 'Model S', 'GLE', 'NX', 'Tahoe', 'Q7', 'Integra',\n",
       "       'Impreza', 'Terrain', 'Civic', 'XC60', 'X3', 'Golf', 'Escape',\n",
       "       'XC90', 'Santa Fe', 'CX-9', 'Focus', 'CX-5', 'CR-V', 'Odyssey',\n",
       "       'Elantra', 'Model X', 'GX', 'Telluride', 'Pilot', 'Charger',\n",
       "       'Optima', 'Escalade', 'Passat', 'A4', 'C-Class', 'Forester',\n",
       "       'Compass', '5 Series'], dtype=object)"
      ]
     },
     "execution_count": 10,
     "metadata": {},
     "output_type": "execute_result"
    }
   ],
   "source": [
    "df['model'].unique()#target encoding\n"
   ]
  },
  {
   "cell_type": "code",
   "execution_count": 11,
   "id": "ec167889",
   "metadata": {},
   "outputs": [
    {
     "data": {
      "text/plain": [
       "fuel_type\n",
       "Electric    359597\n",
       "Diesel      320453\n",
       "Gasoline    319950\n",
       "Name: count, dtype: int64"
      ]
     },
     "execution_count": 11,
     "metadata": {},
     "output_type": "execute_result"
    }
   ],
   "source": [
    "df['fuel_type'].value_counts()\n",
    "#ohe"
   ]
  },
  {
   "cell_type": "code",
   "execution_count": 12,
   "id": "dae38389",
   "metadata": {},
   "outputs": [
    {
     "data": {
      "text/plain": [
       "drivetrain\n",
       "AWD    361110\n",
       "FWD    320142\n",
       "RWD    318748\n",
       "Name: count, dtype: int64"
      ]
     },
     "execution_count": 12,
     "metadata": {},
     "output_type": "execute_result"
    }
   ],
   "source": [
    "df['drivetrain'].value_counts()#ohe"
   ]
  },
  {
   "cell_type": "code",
   "execution_count": 13,
   "id": "2d5eb53a",
   "metadata": {},
   "outputs": [
    {
     "data": {
      "text/plain": [
       "body_type\n",
       "SUV             406693\n",
       "Sedan           326683\n",
       "Pickup Truck    106773\n",
       "Coupe            86302\n",
       "Minivan          33259\n",
       "Hatchback        26930\n",
       "Wagon            13360\n",
       "Name: count, dtype: int64"
      ]
     },
     "execution_count": 13,
     "metadata": {},
     "output_type": "execute_result"
    }
   ],
   "source": [
    "\n",
    "df['body_type'].value_counts()#ohe"
   ]
  },
  {
   "cell_type": "code",
   "execution_count": 14,
   "id": "8375c06d",
   "metadata": {},
   "outputs": [
    {
     "data": {
      "text/plain": [
       "condition\n",
       "Good         499683\n",
       "Excellent    400373\n",
       "Fair          99944\n",
       "Name: count, dtype: int64"
      ]
     },
     "execution_count": 14,
     "metadata": {},
     "output_type": "execute_result"
    }
   ],
   "source": [
    "df['condition'].value_counts()#\n"
   ]
  },
  {
   "cell_type": "code",
   "execution_count": 15,
   "id": "5d2978f6",
   "metadata": {},
   "outputs": [],
   "source": [
    "df.drop('accident_history', axis=1, inplace=True)\n"
   ]
  },
  {
   "cell_type": "code",
   "execution_count": 16,
   "id": "75030c83",
   "metadata": {},
   "outputs": [],
   "source": [
    "# import matplotlib.pyplot as plt\n",
    "# import seaborn as sns\n",
    "\n",
    "# # Separate numeric and categorical columns\n",
    "# numeric_cols = df.select_dtypes(include=['int64', 'float64']).columns.tolist()\n",
    "# categorical_cols = df.select_dtypes(include=['object', 'category']).columns.tolist()\n",
    "\n",
    "# # Plot numeric columns\n",
    "# for col in numeric_cols:\n",
    "#      plt.figure(figsize=(6,4))\n",
    "#     sns.scatterplot(x=df[col], y=df['price'])\n",
    "#     plt.title(f'Price vs {col}')\n",
    "#     plt.xlabel(col)\n",
    "#     plt.ylabel('Price')\n",
    "#     plt.show()\n",
    "\n",
    "\n",
    "# for col in categorical_cols:\n",
    "#     plt.figure(figsize=(6,4))\n",
    "\n",
    "#     sns.scatterplot(x=df[ col], y=df['price'])\n",
    "#     plt.title(f'Price vs {col} (Top 20 categories)')\n",
    "#     plt.xlabel(col)\n",
    "#     plt.ylabel('Price')\n",
    "#     plt.xticks(rotation=45)\n",
    "#     plt.show()\n",
    "\n",
    "\n"
   ]
  },
  {
   "cell_type": "code",
   "execution_count": 17,
   "id": "0a0239f6",
   "metadata": {},
   "outputs": [],
   "source": [
    "# import pandas as pd\n",
    "# from sklearn.model_selection import train_test_split\n",
    "# from sklearn.preprocessing import OneHotEncoder, StandardScaler\n",
    "# from sklearn.compose import ColumnTransformer\n",
    "# from sklearn.pipeline import Pipeline\n",
    "# from sklearn.linear_model import LinearRegression, Ridge, Lasso\n",
    "# from sklearn.ensemble import RandomForestRegressor, GradientBoostingRegressor\n",
    "# from sklearn.metrics import mean_absolute_error, mean_squared_error, r2_score\n",
    "\n",
    "# selected_columns = [\n",
    "#     'year', 'mileage', 'engine_hp', 'vehicle_age', \n",
    "#     'make', 'transmission', 'fuel_type', 'drivetrain', 'body_type', 'price'\n",
    "# ]\n",
    "\n",
    "# df = df[selected_columns]\n",
    "\n",
    "# X = df.drop('price', axis=1)\n",
    "# y = df['price']\n",
    "\n",
    "# categorical_cols = ['make', 'transmission', 'fuel_type', 'drivetrain', 'body_type']\n",
    "# numeric_cols = ['year', 'mileage', 'engine_hp', 'vehicle_age']\n",
    "\n",
    "# preprocessor = ColumnTransformer(\n",
    "#     transformers=[\n",
    "#         ('num', StandardScaler(), numeric_cols),\n",
    "#         ('cat', OneHotEncoder(handle_unknown='ignore', sparse_output=False), categorical_cols)\n",
    "#     ]\n",
    "# )\n",
    "\n",
    "# X_train, X_test, y_train, y_test = train_test_split(X, y, test_size=0.2, random_state=42)\n",
    "\n",
    "# models = {\n",
    "    \n",
    "#     'RandomForest': RandomForestRegressor(n_estimators=50, random_state=42, n_jobs=-1,max_depth=12),\n",
    "#     'GradientBoosting': GradientBoostingRegressor(n_estimators=50, random_state=42,max_depth=6)\n",
    "# }\n",
    "\n",
    "# results = []\n",
    "\n",
    "# for name, model in models.items():\n",
    "#     pipeline = Pipeline(steps=[\n",
    "#         ('preprocessor', preprocessor),\n",
    "#         ('regressor', model)\n",
    "#     ])\n",
    "    \n",
    "#     pipeline.fit(X_train, y_train)\n",
    "    \n",
    "#     y_pred = pipeline.predict(X_test)\n",
    "    \n",
    "#     mae = mean_absolute_error(y_test, y_pred)\n",
    "#     # rmse = mean_squared_error(y_test, y_pred, squared=False)\n",
    "#     rmse = np.sqrt(mean_squared_error(y_test, y_pred))\n",
    "#     r2 = r2_score(y_test, y_pred)\n",
    "    \n",
    "#     results.append({\n",
    "#         'Model': name,\n",
    "#         'MAE': mae,\n",
    "#         'RMSE': rmse,\n",
    "#         'R2': r2\n",
    "#     })\n",
    "\n",
    "# results_df = pd.DataFrame(results).sort_values(by='R2', ascending=False)\n",
    "# print(results_df)\n"
   ]
  },
  {
   "cell_type": "code",
   "execution_count": 18,
   "id": "09149ee3",
   "metadata": {},
   "outputs": [],
   "source": [
    "# import matplotlib.pyplot as plt\n",
    "\n",
    "# # Suppose you want to plot for the best model (top R2)\n",
    "# best_model_name = results_df.iloc[0]['Model']\n",
    "# best_model = models[best_model_name]\n",
    "\n",
    "# # Fit pipeline again (or you can save the pipeline from above)\n",
    "# best_pipeline = Pipeline(steps=[\n",
    "#     ('preprocessor', preprocessor),\n",
    "#     ('regressor', best_model)\n",
    "# ])\n",
    "# best_pipeline.fit(X_train, y_train)\n",
    "# y_pred = best_pipeline.predict(X_test)\n",
    "\n",
    "# # Plot\n",
    "# plt.figure(figsize=(8, 6))\n",
    "# plt.scatter(y_test, y_pred, alpha=0.6, color='blue')\n",
    "# plt.plot([y_test.min(), y_test.max()], [y_test.min(), y_test.max()], 'r--', linewidth=2)  # diagonal line\n",
    "# plt.xlabel(\"Actual Price\")\n",
    "# plt.ylabel(\"Predicted Price\")\n",
    "# plt.title(f\"Predicted vs Actual Price ({best_model_name})\")\n",
    "# plt.show()\n"
   ]
  },
  {
   "cell_type": "code",
   "execution_count": 19,
   "id": "89a671b3",
   "metadata": {},
   "outputs": [],
   "source": [
    "# make                     0\n",
    "# model                    0\n",
    "# year                     0\n",
    "# mileage                  0\n",
    "# engine_hp                0\n",
    "# transmission             0\n",
    "# fuel_type                0\n",
    "# drivetrain               0\n",
    "# body_type                0\n",
    "# exterior_color           0\n",
    "# interior_color           0\n",
    "# owner_count              0\n",
    "# accident_history    750133\n",
    "# seller_type              0\n",
    "# condition                0\n",
    "# trim                     0\n",
    "# vehicle_age              0\n",
    "# mileage_per_year         0\n",
    "# brand_popularity         0\n",
    "# price              "
   ]
  },
  {
   "cell_type": "code",
   "execution_count": 20,
   "id": "a4d65d15",
   "metadata": {},
   "outputs": [
    {
     "data": {
      "text/plain": [
       "array(['Volkswagen', 'Lexus', 'Subaru', 'Cadillac', 'Toyota',\n",
       "       'Land Rover', 'Mazda', 'Ram', 'Chrysler', 'GMC', 'Volvo', 'Audi',\n",
       "       'Chevrolet', 'Tesla', 'Hyundai', 'Ford', 'Porsche', 'Acura',\n",
       "       'Nissan', 'Kia', 'Jeep', 'BMW', 'Dodge', 'Mercedes-Benz', 'Honda'],\n",
       "      dtype=object)"
      ]
     },
     "execution_count": 20,
     "metadata": {},
     "output_type": "execute_result"
    }
   ],
   "source": [
    "df['make'].unique()"
   ]
  },
  {
   "cell_type": "code",
   "execution_count": 21,
   "id": "531f785d",
   "metadata": {},
   "outputs": [
    {
     "data": {
      "text/plain": [
       "array(['Manual', 'Automatic'], dtype=object)"
      ]
     },
     "execution_count": 21,
     "metadata": {},
     "output_type": "execute_result"
    }
   ],
   "source": [
    "df['transmission'].unique()\n"
   ]
  },
  {
   "cell_type": "code",
   "execution_count": 22,
   "id": "612e97fe",
   "metadata": {},
   "outputs": [
    {
     "data": {
      "text/plain": [
       "array(['Electric', 'Gasoline', 'Diesel'], dtype=object)"
      ]
     },
     "execution_count": 22,
     "metadata": {},
     "output_type": "execute_result"
    }
   ],
   "source": [
    "df['fuel_type'].unique()\n"
   ]
  },
  {
   "cell_type": "code",
   "execution_count": 23,
   "id": "529b83b8",
   "metadata": {},
   "outputs": [
    {
     "data": {
      "text/plain": [
       "array(['RWD', 'FWD', 'AWD'], dtype=object)"
      ]
     },
     "execution_count": 23,
     "metadata": {},
     "output_type": "execute_result"
    }
   ],
   "source": [
    "df['drivetrain'].unique()\n"
   ]
  },
  {
   "cell_type": "code",
   "execution_count": 24,
   "id": "b51033ac",
   "metadata": {},
   "outputs": [
    {
     "data": {
      "text/plain": [
       "array(['Sedan', 'SUV', 'Hatchback', 'Pickup Truck', 'Coupe', 'Minivan',\n",
       "       'Wagon'], dtype=object)"
      ]
     },
     "execution_count": 24,
     "metadata": {},
     "output_type": "execute_result"
    }
   ],
   "source": [
    "df['body_type'].unique()\n"
   ]
  },
  {
   "cell_type": "code",
   "execution_count": 32,
   "id": "7b975784",
   "metadata": {},
   "outputs": [
    {
     "data": {
      "image/png": "[encoded data removed]",
      "text/plain": [
       "<Figure size 800x600 with 1 Axes>"
      ]
     },
     "metadata": {},
     "output_type": "display_data"
    }
   ],
   "source": [
    "import joblib\n",
    "import pandas as pd\n",
    "import numpy as np\n",
    "import matplotlib.pyplot as plt\n",
    "from sklearn.model_selection import train_test_split\n",
    "\n",
    "selected_columns = [\n",
    "    'mileage', 'engine_hp', 'vehicle_age', \n",
    "    'make', 'transmission', 'fuel_type', 'drivetrain', 'body_type', 'price'\n",
    "]\n",
    "\n",
    "df = df[selected_columns]\n",
    "\n",
    "X = df.drop('price', axis=1)\n",
    "y = df['price']\n",
    "X_train, X_test, y_train, y_test = train_test_split(X, y, test_size=0.2, random_state=42)\n",
    "\n",
    "# Load fitted preprocessor and model\n",
    "preprocessor = joblib.load('../../best_model/transformed_object/preprocessing.pkl')  # fitted ColumnTransformer\n",
    "model = joblib.load('../../best_model/model.pkl')\n",
    "\n",
    "# Transform test data using the fitted preprocessor\n",
    "X_test_transformed = preprocessor.transform(X_test)\n",
    "\n",
    "# Predict\n",
    "y_pred = model.predict(X_test_transformed)\n",
    "\n",
    "# Plot predicted vs actual\n",
    "plt.figure(figsize=(8, 6))\n",
    "plt.scatter(y_test, y_pred, alpha=0.6, color='blue')\n",
    "plt.plot([y_test.min(), y_test.max()], [y_test.min(), y_test.max()], 'r--', linewidth=2)\n",
    "plt.xlabel(\"Actual Price\")\n",
    "plt.ylabel(\"Predicted Price\")\n",
    "plt.title(\"Predicted vs Actual Price\")\n",
    "plt.show()\n"
   ]
  },
  {
   "cell_type": "code",
   "execution_count": null,
   "id": "18d84678",
   "metadata": {},
   "outputs": [],
   "source": []
  }
 ],
 "metadata": {
  "kernelspec": {
   "display_name": "ipolytics",
   "language": "python",
   "name": "python3"
  },
  "language_info": {
   "codemirror_mode": {
    "name": "ipython",
    "version": 3
   },
   "file_extension": ".py",
   "mimetype": "text/x-python",
   "name": "python",
   "nbconvert_exporter": "python",
   "pygments_lexer": "ipython3",
   "version": "3.13.7"
  }
 },
 "nbformat": 4,
 "nbformat_minor": 5
}
